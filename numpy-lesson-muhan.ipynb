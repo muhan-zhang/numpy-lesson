{
 "cells": [
  {
   "cell_type": "markdown",
   "metadata": {},
   "source": [
    "# Introduction to NumPy Arrays"
   ]
  },
  {
   "cell_type": "code",
   "execution_count": null,
   "metadata": {},
   "outputs": [],
   "source": [
    "import numpy as np\n",
    "import math"
   ]
  },
  {
   "cell_type": "markdown",
   "metadata": {},
   "source": [
    "## Review of List Behavior"
   ]
  },
  {
   "cell_type": "code",
   "execution_count": null,
   "metadata": {},
   "outputs": [],
   "source": [
    "# Construct some coordinates\n",
    "coordinates = [[0,0,0], [0,0,math.pow(2,1/6)], [0,0,2 * math.pow(2,1/6)], [math.pow(2,1/6),0,0]]\n",
    "\n",
    "second_coordinate = coordinates[1]\n",
    "\n",
    "second_coordinate"
   ]
  },
  {
   "cell_type": "code",
   "execution_count": null,
   "metadata": {},
   "outputs": [],
   "source": [
    "translation_vector = [0.1, -0.1, 0]\n",
    "\n",
    "# write some code for translating second coordinate by translation vector\n",
    "\n",
    "for i in range(3):\n",
    "    second_coordinate[i] += translation_vector[i]\n",
    "    \n",
    "assert second_coordinate == [0.1, -0.1, math.pow(2,1/6)]"
   ]
  },
  {
   "cell_type": "markdown",
   "metadata": {},
   "source": [
    "$$(x_1 + x_2, y_1 + y_2, z_1 +z_2)$$"
   ]
  },
  {
   "cell_type": "code",
   "execution_count": null,
   "metadata": {},
   "outputs": [],
   "source": [
    "# Create a numpy array from list (coordinate)\n",
    "second_coordinate_np = np.array(second_coordinate)\n",
    "\n",
    "# Create a numpy array from a list (vector)\n",
    "translation_vector_np = np.array(translation_vector)"
   ]
  },
  {
   "cell_type": "code",
   "execution_count": null,
   "metadata": {},
   "outputs": [],
   "source": [
    "print(type(second_coordinate_np))\n",
    "print(type(translation_vector_np))"
   ]
  },
  {
   "cell_type": "code",
   "execution_count": null,
   "metadata": {},
   "outputs": [],
   "source": [
    "new_coordinate_np = second_coordinate_np + translation_vector_np\n",
    "new_coordinate_np"
   ]
  },
  {
   "cell_type": "code",
   "execution_count": null,
   "metadata": {},
   "outputs": [],
   "source": [
    "# This is very different from the behavior of python lists.\n",
    "second_coordinate + translation_vector"
   ]
  },
  {
   "cell_type": "code",
   "execution_count": null,
   "metadata": {},
   "outputs": [],
   "source": [
    "a1 = np.array([2,1,0])\n",
    "a2 = np.array([1,3,5])\n",
    "\n",
    "print(a1 + a2)\n",
    "print(a1 * a2)\n",
    "\n",
    "# If a1 and a2 are two lists, a1*a2 will result in an error"
   ]
  },
  {
   "cell_type": "markdown",
   "metadata": {},
   "source": [
    "## Array Shape"
   ]
  },
  {
   "cell_type": "code",
   "execution_count": null,
   "metadata": {},
   "outputs": [],
   "source": [
    "my_array = np.array([0.2,0.3])\n",
    "# second_coordinate_np + my_array\n",
    "# ValueError: operands could not be broadcast together with shapes (3,) (2,) "
   ]
  },
  {
   "cell_type": "code",
   "execution_count": null,
   "metadata": {},
   "outputs": [],
   "source": [
    "second_coordinate_np.shape"
   ]
  },
  {
   "cell_type": "code",
   "execution_count": null,
   "metadata": {},
   "outputs": [],
   "source": [
    "coordinates_np = np.array(coordinates)\n",
    "coordinates_np.shape"
   ]
  },
  {
   "cell_type": "markdown",
   "metadata": {},
   "source": [
    "## Accessing information in nested list"
   ]
  },
  {
   "cell_type": "code",
   "execution_count": null,
   "metadata": {},
   "outputs": [],
   "source": [
    "atom_index_3 = coordinates[3]\n",
    "x_coord_atom_3 = atom_index_3[0]\n",
    "print(x_coord_atom_3)"
   ]
  },
  {
   "cell_type": "code",
   "execution_count": null,
   "metadata": {},
   "outputs": [],
   "source": [
    "coordinates[3][0]"
   ]
  },
  {
   "cell_type": "code",
   "execution_count": null,
   "metadata": {},
   "outputs": [],
   "source": [
    "coordinates_np[3,0:2]"
   ]
  },
  {
   "cell_type": "code",
   "execution_count": null,
   "metadata": {},
   "outputs": [],
   "source": [
    "coordinates_np"
   ]
  },
  {
   "cell_type": "markdown",
   "metadata": {},
   "source": [
    "## Broadcasting"
   ]
  },
  {
   "cell_type": "code",
   "execution_count": null,
   "metadata": {},
   "outputs": [],
   "source": [
    "print(coordinates)\n",
    "print(translation_vector)"
   ]
  },
  {
   "cell_type": "code",
   "execution_count": null,
   "metadata": {},
   "outputs": [],
   "source": [
    "# Translate all coordinates by translation vector using lists and python standard library\n",
    "num_atoms = len(coordinates)\n",
    "new_coordinates = []\n",
    "for n in range(num_atoms):\n",
    "    atom_coord = coordinates[n]\n",
    "    updated_coord = []\n",
    "    for i in range(3):\n",
    "        translate_coordinate = atom_coord[i] + translation_vector[i]\n",
    "        updated_coord.append(translate_coordinate)\n",
    "        \n",
    "    new_coordinates.append(updated_coord)\n",
    "    \n",
    "print(new_coordinates)"
   ]
  },
  {
   "cell_type": "code",
   "execution_count": null,
   "metadata": {},
   "outputs": [],
   "source": [
    "new_coordinates_np = coordinates_np + translation_vector_np\n",
    "print(new_coordinates_np)"
   ]
  },
  {
   "cell_type": "code",
   "execution_count": null,
   "metadata": {},
   "outputs": [],
   "source": [
    "10 * coordinates_np"
   ]
  },
  {
   "cell_type": "code",
   "execution_count": null,
   "metadata": {},
   "outputs": [],
   "source": [
    "new_coordinates_np > 0"
   ]
  },
  {
   "cell_type": "code",
   "execution_count": null,
   "metadata": {},
   "outputs": [],
   "source": [
    "new_coordinates_np[new_coordinates_np > 0]"
   ]
  },
  {
   "cell_type": "markdown",
   "metadata": {},
   "source": [
    "## Array Axes"
   ]
  },
  {
   "cell_type": "code",
   "execution_count": null,
   "metadata": {},
   "outputs": [],
   "source": [
    "coordinates_np.mean()\n",
    "# average value of all values"
   ]
  },
  {
   "cell_type": "code",
   "execution_count": null,
   "metadata": {},
   "outputs": [],
   "source": [
    "coordinates_np.shape"
   ]
  },
  {
   "cell_type": "code",
   "execution_count": null,
   "metadata": {},
   "outputs": [],
   "source": [
    "print(coordinates_np.mean(axis=0))\n",
    "print(coordinates_np.mean(axis=1))\n",
    "# axis=0 mean values of columns\n",
    "# axis=1 mean values of row"
   ]
  },
  {
   "cell_type": "code",
   "execution_count": null,
   "metadata": {},
   "outputs": [],
   "source": [
    "center = np.mean(coordinates_np, axis=0)\n",
    "print(center)"
   ]
  },
  {
   "cell_type": "code",
   "execution_count": null,
   "metadata": {},
   "outputs": [],
   "source": []
  }
 ],
 "metadata": {
  "kernelspec": {
   "display_name": "Python 3",
   "language": "python",
   "name": "python3"
  },
  "language_info": {
   "codemirror_mode": {
    "name": "ipython",
    "version": 3
   },
   "file_extension": ".py",
   "mimetype": "text/x-python",
   "name": "python",
   "nbconvert_exporter": "python",
   "pygments_lexer": "ipython3",
   "version": "3.7.7"
  }
 },
 "nbformat": 4,
 "nbformat_minor": 4
}
